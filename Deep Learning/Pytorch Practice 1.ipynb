{
 "cells": [
  {
   "cell_type": "code",
   "execution_count": 1,
   "metadata": {
    "colab": {
     "base_uri": "https://localhost:8080/"
    },
    "id": "T1LV7izNa82D",
    "outputId": "2e8263df-e7c0-477f-cd2a-260b1bcf0ec4"
   },
   "outputs": [
    {
     "name": "stdout",
     "output_type": "stream",
     "text": [
      "%pylab is deprecated, use %matplotlib inline and import the required libraries.\n",
      "Populating the interactive namespace from numpy and matplotlib\n"
     ]
    }
   ],
   "source": [
    "%pylab inline"
   ]
  },
  {
   "cell_type": "code",
   "execution_count": 2,
   "metadata": {
    "id": "nDR5ILDmaF1I"
   },
   "outputs": [],
   "source": [
    "import torch\n",
    "import torchvision\n",
    "import torchvision.transforms as transforms\n",
    "import torch.nn as nn\n",
    "import torch.optim as opt"
   ]
  },
  {
   "cell_type": "markdown",
   "metadata": {
    "id": "RtxDmxngrhE0"
   },
   "source": [
    "### Make sure your runtime type is either GPU or TPU"
   ]
  },
  {
   "cell_type": "code",
   "execution_count": 3,
   "metadata": {
    "colab": {
     "base_uri": "https://localhost:8080/"
    },
    "id": "BGznYvxIIvjy",
    "outputId": "1bfe49ae-9032-47b6-c2e2-8c314b00a629"
   },
   "outputs": [
    {
     "name": "stdout",
     "output_type": "stream",
     "text": [
      "Files already downloaded and verified\n",
      "Files already downloaded and verified\n"
     ]
    }
   ],
   "source": [
    "transform = transforms.Compose([transforms.ToTensor(),\n",
    "     transforms.Normalize((0.5, 0.5, 0.5), (0.5, 0.5, 0.5))])\n",
    "\n",
    "batch_size = 128\n",
    "\n",
    "trainset = torchvision.datasets.CIFAR10(root='./data', train=True,\n",
    "                                        download=True, transform=transform)\n",
    "trainloader = torch.utils.data.DataLoader(trainset, batch_size=batch_size,\n",
    "                                          shuffle=True, num_workers=2)\n",
    "\n",
    "testset = torchvision.datasets.CIFAR10(root='./data', train=False,\n",
    "                                       download=True, transform=transform)\n",
    "testloader = torch.utils.data.DataLoader(testset, batch_size=batch_size,\n",
    "                                         shuffle=False, num_workers=2)"
   ]
  },
  {
   "cell_type": "markdown",
   "metadata": {
    "id": "LO3K14JN3pG-"
   },
   "source": [
    "The list of class names in the dataset"
   ]
  },
  {
   "cell_type": "code",
   "execution_count": 4,
   "metadata": {
    "id": "aM0CAgNwUUX0"
   },
   "outputs": [],
   "source": [
    "classes = ['airplane', 'automobile', 'bird', 'cat', 'deer', 'dog', 'frog', 'horse', 'ship', 'truck']"
   ]
  },
  {
   "cell_type": "code",
   "execution_count": 5,
   "metadata": {
    "colab": {
     "base_uri": "https://localhost:8080/",
     "height": 441
    },
    "id": "0T8CNxqxbBTM",
    "outputId": "f83771d2-5aec-44f5-af19-c0e357f48a05"
   },
   "outputs": [
    {
     "name": "stdout",
     "output_type": "stream",
     "text": [
      "torch.Size([128, 3, 32, 32]) torch.Size([128])\n",
      "truck\n"
     ]
    },
    {
     "data": {
      "image/png": "[encoded data removed]",
      "text/plain": [
       "<Figure size 640x480 with 1 Axes>"
      ]
     },
     "metadata": {},
     "output_type": "display_data"
    }
   ],
   "source": [
    "dataiter = iter(trainloader)\n",
    "images, labels = next(dataiter)\n",
    "\n",
    "print(images.size(), labels.size())\n",
    "\n",
    "i = 12\n",
    "imshow(images[i].permute([1, 2, 0]).numpy()/2 + .5)\n",
    "axis('off')\n",
    "print(classes[labels[i].item()])"
   ]
  },
  {
   "cell_type": "markdown",
   "metadata": {
    "id": "hQO9KblUpw0L"
   },
   "source": [
    "\n",
    "\n",
    "---\n",
    "\n"
   ]
  },
  {
   "cell_type": "markdown",
   "metadata": {
    "id": "aQdxxgWClBns"
   },
   "source": [
    "## Task 1\n",
    "Build a neural network with two *Linear* layers and an output layer. The first Linear layer should have 512 neurons and the second 128 neurons. Both layers should use *relu* activation function. After each of these *Linear* layers, you should have a *dropout* layer (torch.nn.Dropout) with dropout probability 0.2. The output layer\n",
    "should be a *Linear* layer.\n",
    "\n",
    "Use torch.nn.CrossEntropyLoss to compute the loss value of the model output. Use *adam* optimizer to update the model parameters when training the model."
   ]
  },
  {
   "cell_type": "code",
   "execution_count": null,
   "metadata": {
    "id": "pwrN_8WJXbR_"
   },
   "outputs": [],
   "source": [
    "device = torch.device('cpu')\n",
    "\n",
    "model1 = nn.Sequential(\n",
    "    nn.Flatten(),\n",
    "    nn.Linear(3 * 32 * 32,512),\n",
    "    nn.ReLU(),\n",
    "    nn.Dropout(0.2),\n",
    "    nn.Linear(512,128),\n",
    "    nn.ReLU(),\n",
    "    nn.Dropout(0.2),\n",
    "    nn.Linear(128, len(classes))\n",
    ").to(device)\n",
    "\n",
    "CEL_loss = nn.CrossEntropyLoss()\n",
    "optimizer = opt.Adam(model1.parameters())"
   ]
  },
  {
   "cell_type": "markdown",
   "metadata": {
    "id": "NrboiPkOmko8"
   },
   "source": [
    "## Task 2\n",
    "Train the model for 50 epochs. Evaluate the model on the testing data. Print out the model accuracy on test data after the training."
   ]
  },
  {
   "cell_type": "code",
   "execution_count": null,
   "metadata": {
    "id": "hUyvcurvU2l1"
   },
   "outputs": [],
   "source": [
    "num_epochs = 50\n",
    "for epoch in range(num_epochs):\n",
    "    running_loss = 0.0\n",
    "    model1.train()\n",
    "    for i, (X,y) in enumerate(trainloader):\n",
    "        X, y = X.to(device), y.to(device)\n",
    "        pred = model1(X)\n",
    "        loss = CEL_loss(pred, y)\n",
    "        \n",
    "        optimizer.zero_grad()\n",
    "        loss.backward()\n",
    "        optimizer.step()\n",
    "        \n",
    "        if i % 100 == 99:  # Print every 100 mini-batches\n",
    "            print(f'Epoch [{epoch + 1}/{num_epochs}], Batch [{i + 1}/{len(trainloader)}], Loss: {running_loss / 100:.4f}')\n",
    "            running_loss = 0.0\n",
    "            \n",
    "    model1.eval()\n",
    "    correct = 0\n",
    "    total = 0\n",
    "    with torch.no_grad():\n",
    "        for X_test, y_test in testloader:\n",
    "            X_test, y_test = X_test.to(device), y_test.to(device)\n",
    "            outputs = model1(X_test)\n",
    "            _, predicted = torch.max(outputs.data, 1)\n",
    "            total += y_test.size(0)\n",
    "            correct += (predicted == y_test).sum().item()\n",
    "            \n",
    "    print(f'Accuracy on test data after epoch {epoch + 1}: {(100 * correct / total):.2f}%')\n",
    "    \n",
    "       "
   ]
  },
  {
   "cell_type": "markdown",
   "metadata": {
    "id": "gNYU1ulpnyyU"
   },
   "source": [
    "## Task 3\n",
    "Implement a function *recognize*. It takes an image (shape = 3, 32, 32) as an input and use the \"model\" you trained above to make a prediction of the image's class. Your function should return the predicted (string) class (use the classes list above to map numeric prediction to string label)."
   ]
  },
  {
   "cell_type": "code",
   "execution_count": null,
   "metadata": {
    "id": "T8AExaK5OGu4"
   },
   "outputs": [],
   "source": [
    "def recognize(new_img):\n",
    "    model1.eval()\n",
    "    im_tensor = torch.tensor(new_img).unsqueeze(0)\n",
    "    with torch.no_grad():\n",
    "        output = model1(im_tensor)\n",
    "        \n",
    "    _, predicted = torch.max(output, 1)\n",
    "    return classes[predicted.item()]\n",
    "\n",
    "\n",
    "dataiter = iter(testloader)\n",
    "images, labels = next(dataiter)\n",
    "new_img = images[0]\n",
    "\n",
    "pred = recognize(new_img.cpu())\n",
    "\n",
    "print('Neural network recognizes this image as:', pred)\n",
    "print('true image label:', classes[labels[0].item()])\n",
    "imshow(new_img.permute([1, 2, 0]).numpy()/2 + .5)\n",
    "axis('off')"
   ]
  },
  {
   "cell_type": "markdown",
   "metadata": {
    "id": "H8b3EktNs5Ek"
   },
   "source": [
    "### Task 4\n",
    "\n",
    "Implement a CNN with the following structure:\n",
    "- 4 Conv layers:  \n",
    "(3x3)x32, (3x3)x32, (3x3)x64, (3x3)x64\n",
    "\n",
    "- 2x2 Maxpool after 2nd and 4th conv.\n",
    "- Dropout after pooling\n",
    "- One FC layer and then a FC output layer\n",
    "\n",
    "Train the CNN model until training accuracy converges.\n",
    "(Compute accuracy on training data at the end of each epoch. Plot the accuracy values vs epochs to determine whether it converges.) Test the accuracy of the trained model on the testing dataset."
   ]
  },
  {
   "cell_type": "code",
   "execution_count": 7,
   "metadata": {
    "id": "yMnZlSnUwuh6"
   },
   "outputs": [],
   "source": [
    "cnn = nn.Sequential(\n",
    "    nn.Conv2d(in_channels=3, out_channels=32, kernel_size=3, padding=1),\n",
    "    nn.ReLU(),\n",
    "    nn.Conv2d(in_channels=32, out_channels=64, kernel_size=3, padding=1),\n",
    "    nn.ReLU(),\n",
    "    nn.MaxPool2d(kernel_size=2, stride=2),\n",
    "    nn.Dropout(0.5),\n",
    "    nn.Conv2d(in_channels=64, out_channels=128, kernel_size=3, padding=1),\n",
    "    nn.ReLU(),\n",
    "    nn.Conv2d(in_channels=128, out_channels=128, kernel_size=3, padding=1),\n",
    "    nn.ReLU(),\n",
    "    nn.MaxPool2d(kernel_size=2, stride=2),\n",
    "    nn.Dropout(0.5),\n",
    "    nn.Flatten(),\n",
    "    nn.Linear(128 * 8 * 8, 128),\n",
    "    nn.ReLU(),\n",
    "    nn.Linear(128, 10)\n",
    ")\n",
    "\n",
    "criterion = nn.CrossEntropyLoss()\n",
    "optimizer = opt.Adam(cnn.parameters(), lr=0.001)\n",
    "\n",
    "def train(model, trainloader, criterion, optimizer):\n",
    "    epochs = 50\n",
    "    train_accuracy = [] \n",
    "    prev_accuracy = 0.0 \n",
    "    model.train()\n",
    "    for epoch in range(epochs):\n",
    "        running_loss = 0.0\n",
    "        correct = 0\n",
    "        total = 0\n",
    "        for inputs, labels in trainloader:\n",
    "            optimizer.zero_grad()\n",
    "            outputs = model(inputs)\n",
    "            loss = criterion(outputs, labels)\n",
    "            loss.backward()\n",
    "            optimizer.step()\n",
    "\n",
    "            running_loss += loss.item()\n",
    "            _, predicted = torch.max(outputs, 1)\n",
    "            total += labels.size(0)\n",
    "            correct += (predicted == labels).sum().item()\n",
    "\n",
    "        epoch_accuracy = 100 * correct / total\n",
    "        train_accuracy.append(epoch_accuracy)\n",
    "        print(f'Epoch [{epoch + 1}/{epochs}], Loss: {running_loss / len(trainloader):.4f}, Accuracy: {epoch_accuracy:.2f}%')\n",
    "\n",
    "        if abs(epoch_accuracy - prev_accuracy) < 0.1:\n",
    "            print(\"Training accuracy converged.\")\n",
    "            break\n",
    "\n",
    "        prev_accuracy = epoch_accuracy\n",
    "\n",
    "    return train_accuracy\n",
    "\n",
    "def test(model, testloader):\n",
    "    correct = 0\n",
    "    total = 0\n",
    "    model.eval()\n",
    "    with torch.no_grad():\n",
    "        for inputs, labels in testloader:\n",
    "            outputs = model(inputs)\n",
    "            _, predicted = torch.max(outputs, 1)\n",
    "            total += labels.size(0)\n",
    "            correct += (predicted == labels).sum().item()\n",
    "\n",
    "    test_accuracy = 100 * correct / total\n",
    "    print(f'Test Accuracy: {test_accuracy:.2f}%')\n",
    "\n",
    "    return test_accuracy"
   ]
  },
  {
   "cell_type": "code",
   "execution_count": null,
   "metadata": {},
   "outputs": [],
   "source": [
    "train_accuracy = train(cnn, trainloader, criterion, optimizer)\n",
    "test_accuracy = test(cnn, testloader)\n",
    "\n",
    "plt.plot(range(1, len(train_accuracy) + 1), train_accuracy, label='Training Accuracy')\n",
    "plt.xlabel('Epochs')\n",
    "plt.ylabel('Accuracy (%)')\n",
    "plt.title('Training Accuracy vs Epochs')\n",
    "plt.legend()\n",
    "plt.grid(True)\n",
    "plt.show()"
   ]
  },
  {
   "cell_type": "code",
   "execution_count": null,
   "metadata": {},
   "outputs": [],
   "source": []
  }
 ],
 "metadata": {
  "accelerator": "GPU",
  "colab": {
   "provenance": []
  },
  "kernelspec": {
   "display_name": "Python 3 (ipykernel)",
   "language": "python",
   "name": "python3"
  },
  "language_info": {
   "codemirror_mode": {
    "name": "ipython",
    "version": 3
   },
   "file_extension": ".py",
   "mimetype": "text/x-python",
   "name": "python",
   "nbconvert_exporter": "python",
   "pygments_lexer": "ipython3",
   "version": "3.11.5"
  }
 },
 "nbformat": 4,
 "nbformat_minor": 1
}
