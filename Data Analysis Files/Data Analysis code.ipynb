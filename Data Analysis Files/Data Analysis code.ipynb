{
 "cells": [
  {
   "cell_type": "markdown",
   "id": "438afd4b",
   "metadata": {},
   "source": [
    "# Google Play Store Apps Data\n",
    "This dataset consists of web scraped data of more than 10,000 Google Play Store apps and 60,000 app reviews. `apps_data.csv` consists of data about the apps such as category, number of installs, and price. `review_data.csv` holds reviews of the apps, including the text of the review and sentiment scores. You can join the two tables on the `App` column.\n",
    "\n",
    "Not sure where to begin? Scroll to the bottom to find challenges!"
   ]
  },
  {
   "cell_type": "code",
   "execution_count": 1,
   "id": "pending-accident",
   "metadata": {
    "executionCancelledAt": null,
    "executionTime": null,
    "lastExecutedAt": null,
    "lastScheduledRunId": null,
    "lastSuccessfullyExecutedCode": null,
    "outputsMetadata": {
     "0": {
      "height": 36,
      "type": "stream"
     },
     "1": {
      "height": 150,
      "type": "stream"
     }
    }
   },
   "outputs": [
    {
     "name": "stdout",
     "output_type": "stream",
     "text": [
      "Fitting 5 folds for each of 81 candidates, totalling 405 fits\n"
     ]
    }
   ],
   "source": [
    "import pandas as pd\n",
    "import numpy as np\n",
    "import matplotlib.pyplot as plt\n",
    "import seaborn as sns\n",
    "from sklearn.ensemble import RandomForestClassifier\n",
    "from sklearn.model_selection import train_test_split, GridSearchCV\n",
    "from sklearn.metrics import accuracy_score\n",
    "\n",
    "# Importing Data\n",
    "apps = pd.read_csv(\"apps_data.csv\")\n",
    "reviews = pd.read_csv('review_data.csv')\n",
    "games_df = apps.merge(reviews, on='App', how='outer')\n",
    "\n",
    "# Functions\n",
    "def convert_to_millions(value):\n",
    "    if value[-1] == 'k':\n",
    "        return float(value[:-1]) / 1000\n",
    "    elif value[-1] == 'M':\n",
    "        return float(value[:-1])\n",
    "    elif value == 'Varies with device':\n",
    "        return np.nan\n",
    "    else:\n",
    "        return float(value)\n",
    "\n",
    "# Cleaning Data\n",
    "na_threshold = len(games_df) * 0.05\n",
    "drop_cols = games_df.columns[games_df.isna().sum() <= na_threshold]\n",
    "games_df.dropna(subset=drop_cols, inplace=True)\n",
    "games_df.drop(['Current Ver','Android Ver','Translated_Review'], axis=1, inplace=True)\n",
    "games_df.drop_duplicates()\n",
    "\n",
    "games_df['Category'] = games_df['Category'].str.replace('_', ' ')\n",
    "games_df['Category'] = games_df['Category'].str.title()\n",
    "games_df['Category'] = games_df['Category'].astype('category')\n",
    "\n",
    "games_df['Size'] = games_df['Size'].apply(convert_to_millions)\n",
    "games_df['Size'] = games_df['Size'].astype(float)\n",
    "\n",
    "cat_list = ['Installs','Type','Content Rating']\n",
    "games_df[cat_list] = games_df[cat_list].astype('category')\n",
    "\n",
    "games_df['Price'] = games_df['Price'].str.strip('$')\n",
    "games_df['Price'] = games_df['Price'].astype(float)\n",
    "\n",
    "games_df['Genres'] = games_df['Genres'].str.replace('_',' ')\n",
    "games_df['Genres'] = games_df['Genres'].str.replace(';',' ')\n",
    "games_df['Genres'] = games_df['Genres'].astype('category')\n",
    "\n",
    "games_df['Last Updated'] = pd.to_datetime(games_df['Last Updated'], infer_datetime_format=True)\n",
    "games_df['Last Updated (Year)'] = games_df['Last Updated'].dt.year\n",
    "games_df['Last Updated (Month)'] = games_df['Last Updated'].dt.strftime('%B')\n",
    "games_df.drop('Last Updated', axis=1, inplace=True)\n",
    "\n",
    "# Imputation\n",
    "cat_group = games_df.groupby('Category')\n",
    "mean_imputer = lambda x: x.fillna(x.mean().round(2))\n",
    "\n",
    "games_df['Size'] = cat_group['Size'].transform(mean_imputer)\n",
    "games_df['Size'] = games_df['Size'].astype(float)\n",
    "games_df['Size'] = np.log(games_df['Size'])\n",
    "\n",
    "games_df['Sentiment_Polarity'] = cat_group['Sentiment_Polarity'].transform(mean_imputer)\n",
    "games_df['Sentiment_Polarity'] = games_df['Sentiment_Polarity'].astype(float)\n",
    "\n",
    "games_df['Sentiment_Subjectivity'] = cat_group['Sentiment_Subjectivity'].transform(mean_imputer)\n",
    "games_df['Sentiment_Subjectivity'] = games_df['Sentiment_Subjectivity'].astype(float)\n",
    "\n",
    "games_df['Sentiment'] = cat_group['Sentiment'].transform(lambda x: x.fillna(x.mode().iloc[0]))\n",
    "games_df['Sentiment'] = games_df['Sentiment'].astype('category')\n",
    "\n",
    "# Machine Learning\n",
    "X = games_df[['Size','Sentiment_Polarity']].values\n",
    "y = games_df['Category'].values\n",
    "X_new = np.array([[2.87,0.26],[3.21,0.45],[2.61,-0.02],[1.98,0.5]])\n",
    "X_train, X_test, y_train, y_test = train_test_split(X,y,test_size=0.3)\n",
    "\n",
    "rfc = RandomForestClassifier()\n",
    "param_grid = {\n",
    "    'n_estimators': [100, 200, 300],  # Number of trees in the fores\n",
    "    'max_depth': [10, 20, 30],  # Maximum depth of trees\n",
    "    'min_samples_split': [2, 5, 10],  # Minimum samples required to split\n",
    "    'min_samples_leaf': [1, 2, 4],  # Minimum samples required at a leaf node\n",
    "}\n",
    "grid_search = GridSearchCV(rfc, param_grid=param_grid, n_jobs=-1,verbose=1, cv=5, scoring='accuracy')\n",
    "grid_search.fit(X_train,y_train)\n",
    "\n",
    "rfc_estimator = grid_search.best_estimator_ # RandomForestClassifier(max_depth=30, n_estimators=300)\n",
    "y_pred = rfc_estimator.predict(X_test)\n",
    "print(accuracy_score(y_true=y_test,y_pred=y_pred))"
   ]
  },
  {
   "cell_type": "markdown",
   "id": "47089de6",
   "metadata": {},
   "source": [
    "## Data Dictionary\n",
    "\n",
    "**data_apps.csv**\n",
    "\n",
    "| variable       | class     | description                                                                  |\n",
    "|:---------------|:----------|:-----------------------------------------------------------------------------|\n",
    "| App            | character | The application name                                                         |\n",
    "| Category       | character | The category the app belongs to                                              |\n",
    "| Rating         | numeric   | Overall user rating of the app                                               |\n",
    "| Reviews        | numeric   | Number of user reviews for the app                                           |\n",
    "| Size           | character | The size of the app                                                          |\n",
    "| Installs       | character | Number of user installs for the app                                          |\n",
    "| Type           | character | Either \"Paid\" or \"Free\"                                                      |\n",
    "| Price          | character | Price of the app                                                             |\n",
    "| Content Rating | character | The age group the app is targeted at - \"Children\" / \"Mature 21+\" / \"Adult\"   |\n",
    "| Genres         | character | Possibly multiple genres the app belongs to                                  |\n",
    "| Last Updated   | character | The date the app was last updated                                            |\n",
    "| Current Ver    | character | The current version of the app                                               |\n",
    "| Android Ver    | character | The Android version needed for this app                                      |\n",
    "\n",
    "**data_reviews.csv**\n",
    "\n",
    "| variable               | class        | description                                           |\n",
    "|:-----------------------|:-------------|:------------------------------------------------------|\n",
    "| App                    | character    | The application name                                  |\n",
    "| Translated_Review      | character    | User review (translated to English)                   |\n",
    "| Sentiment              | character    | The sentiment of the user - Positive/Negative/Neutral |\n",
    "| Sentiment_Polarity     | character    | The sentiment polarity score                          |\n",
    "| Sentiment_Subjectivity | character    | The sentiment subjectivity score                      |"
   ]
  },
  {
   "cell_type": "markdown",
   "id": "c6d2b2d2-fc14-4d2c-b3ea-6d2f99e1d93d",
   "metadata": {},
   "source": [
    "[Source](https://www.kaggle.com/lava18/google-play-store-apps) of dataset."
   ]
  },
  {
   "cell_type": "markdown",
   "id": "5a0a52d9",
   "metadata": {},
   "source": [
    "## Don't know where to start?\n",
    "\n",
    "**Challenges are brief tasks designed to help you practice specific skills:**\n",
    "\n",
    "- 🗺️ **Explore**: Which categories get the highest reviews from amongst the 10 most popular categories?\n",
    "- 📊 **Visualize**: Create a plot visualizing the distribution of sentiment polarity, split by content rating.\n",
    "- 🔎 **Analyze**: What impact does the content rating an app receives have on its sentiment and rating?\n",
    "\n",
    "**Scenarios are broader questions to help you develop an end-to-end project for your portfolio:**\n",
    "\n",
    "You are working for an app developer. They are in the process of brainstorming a new app. They want to ensure that their next app scores a high review on the app store, as this can lead to the app being featured on the store homepage. They would like you analyze what factors increase the rating an app will receive. They would also like to know what impact reviews have on the final score.\n",
    "\n",
    "You will need to prepare a report that is accessible to a broad audience. It should outline your motivation, steps, findings, and conclusions."
   ]
  }
 ],
 "metadata": {
  "colab": {
   "name": "Welcome to DataCamp Workspaces.ipynb",
   "provenance": []
  },
  "editor": "DataCamp Workspace",
  "kernelspec": {
   "display_name": "Python 3 (ipykernel)",
   "language": "python",
   "name": "python3"
  },
  "language_info": {
   "codemirror_mode": {
    "name": "ipython",
    "version": 3
   },
   "file_extension": ".py",
   "mimetype": "text/x-python",
   "name": "python",
   "nbconvert_exporter": "python",
   "pygments_lexer": "ipython3",
   "version": "3.11.4"
  },
  "varInspector": {
   "cols": {
    "lenName": 16,
    "lenType": 16,
    "lenVar": 40
   },
   "kernels_config": {
    "python": {
     "delete_cmd_postfix": "",
     "delete_cmd_prefix": "del ",
     "library": "var_list.py",
     "varRefreshCmd": "print(var_dic_list())"
    },
    "r": {
     "delete_cmd_postfix": ") ",
     "delete_cmd_prefix": "rm(",
     "library": "var_list.r",
     "varRefreshCmd": "cat(var_dic_list()) "
    }
   },
   "types_to_exclude": [
    "module",
    "function",
    "builtin_function_or_method",
    "instance",
    "_Feature"
   ],
   "window_display": false
  }
 },
 "nbformat": 4,
 "nbformat_minor": 5
}
